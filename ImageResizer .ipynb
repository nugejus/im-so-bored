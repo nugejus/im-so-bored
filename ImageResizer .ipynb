{
 "cells": [
  {
   "cell_type": "code",
   "execution_count": null,
   "id": "43e2d182-7464-48ed-b0c0-acacaff53165",
   "metadata": {},
   "outputs": [],
   "source": [
    "from PIL import Image\n",
    "from tqdm import tqdm\n",
    "\n",
    "# convert image to 27*27 and black and white\n",
    "def Resizer(im_link_list):\n",
    "    with tqdm(total=len(im_link_list)) as pbar:\n",
    "        for link in im_link_list:\n",
    "            im_original=Image.open(link)\n",
    "            im_resized=im_original.resize((28,28))\n",
    "            im_converted = im_resized.convert('1') # convert image to black and white\n",
    "            im_converted.save(key)\n",
    "            pbar.update(1)"
   ]
  }
 ],
 "metadata": {
  "kernelspec": {
   "display_name": "Python 3 (ipykernel)",
   "language": "python",
   "name": "python3"
  },
  "language_info": {
   "codemirror_mode": {
    "name": "ipython",
    "version": 3
   },
   "file_extension": ".py",
   "mimetype": "text/x-python",
   "name": "python",
   "nbconvert_exporter": "python",
   "pygments_lexer": "ipython3",
   "version": "3.10.6"
  }
 },
 "nbformat": 4,
 "nbformat_minor": 5
}
