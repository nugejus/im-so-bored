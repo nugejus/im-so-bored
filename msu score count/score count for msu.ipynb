{
 "cells": [
  {
   "cell_type": "code",
   "execution_count": null,
   "id": "dda558d3-fe2e-4542-8363-0690c6f0585c",
   "metadata": {},
   "outputs": [],
   "source": [
    "#imports\n",
    "\n",
    "from bs4 import BeautifulSoup as bs\n",
    "import requests\n",
    "from selenium import webdriver\n",
    "from webdriver_manager.chrome import ChromeDriverManager\n",
    "from selenium.webdriver.common.by import By\n",
    "import time"
   ]
  },
  {
   "cell_type": "code",
   "execution_count": null,
   "id": "776db050-0071-4317-b8e6-2234366a5919",
   "metadata": {},
   "outputs": [],
   "source": [
    "#settings\n",
    "\n",
    "adress='https://lk.msu.ru/cabinet'\n",
    "\n",
    "#driver open\n",
    "chrome_path='chromedriver.exe'\n",
    "driver = webdriver.Chrome()\n",
    "driver.get(adress)\n",
    "\n",
    "#login tag settings\n",
    "tag_id = driver.find_element(By.NAME,'LoginForm[email]')\n",
    "tag_pw = driver.find_element(By.NAME,\"LoginForm[password]\")\n",
    "tag_lg_button=driver.find_element(By.NAME,'login-button')"
   ]
  },
  {
   "cell_type": "code",
   "execution_count": null,
   "id": "a68d0af8-b3d7-49be-bee3-f8fb7b4b3870",
   "metadata": {
    "tags": []
   },
   "outputs": [],
   "source": [
    "#login\n",
    "\n",
    "#inputs\n",
    "id_=input(\"enter your id\\n\")\n",
    "pw=input(\"enter your pw\\n\")\n",
    "\n",
    "#login driving\n",
    "time.sleep(2)\n",
    "tag_id.click()\n",
    "pyperclip.copy(id_)\n",
    "tag_id.send_keys(Keys.CONTROL, 'v')\n",
    "\n",
    "tag_pw.click()\n",
    "pyperclip.copy(pw)\n",
    "tag_pw.send_keys(Keys.CONTROL, 'v')\n",
    "\n",
    "tag_lg_button.click()\n",
    "time.sleep(2)"
   ]
  },
  {
   "cell_type": "code",
   "execution_count": null,
   "id": "70f5609f-9ef3-4474-ae2d-7adcf0c33dff",
   "metadata": {},
   "outputs": [],
   "source": [
    "#go to score page\n",
    "tag_pt=driver.find_element(By.LINK_TEXT,'Оценки')\n",
    "tag_pt.click()\n",
    "time.sleep(2)"
   ]
  },
  {
   "cell_type": "code",
   "execution_count": null,
   "id": "5c17578c-2eb1-4557-a83f-299dabea4365",
   "metadata": {},
   "outputs": [],
   "source": [
    "#parse the score page\n",
    "soup=driver.page_source\n",
    "soup=bs(soup,'html.parser')\n",
    "\n",
    "#pop only text-success classes\n",
    "tr=list(soup.find_all('tr'))\n",
    "successes=[]\n",
    "for tag in tr:\n",
    "    if \"text-success\" in str(tag):\n",
    "        successes.append(tag)"
   ]
  },
  {
   "cell_type": "code",
   "execution_count": null,
   "id": "477ffa24-2c46-4d6e-86d6-db49ed1b0286",
   "metadata": {},
   "outputs": [],
   "source": [
    "#score counts\n",
    "pt_sum_5=0\n",
    "pt_sum_4_5=0\n",
    "pt_sum_4_3=0\n",
    "pt_count=0\n",
    "for tag in successes:\n",
    "    if 'удов.' in str(tag):\n",
    "        pt_count+=1\n",
    "        pt_sum_5+=3\n",
    "        pt_sum_4_5+=2.7\n",
    "        pt_sum_4_3+=2.58\n",
    "    elif 'хорошо' in str(tag):\n",
    "        pt_count+=1\n",
    "        pt_sum_5+=4\n",
    "        pt_sum_4_5+=3.6\n",
    "        pt_sum_4_3+=3.44\n",
    "    elif 'отлично' in str(tag):\n",
    "        pt_count+=1\n",
    "        pt_sum_5+=5\n",
    "        pt_sum_4_5+=4.5\n",
    "        pt_sum_4_3+=4.3\n",
    "    elif 'не сдано' in str(tag):\n",
    "        pt_count+=1\n",
    "        pt_sum_5+=2\n",
    "        pt_sum_4_5+=1.72\n",
    "        pt_sum_4_3+=1.8\n",
    "    else:\n",
    "        continue"
   ]
  },
  {
   "cell_type": "code",
   "execution_count": null,
   "id": "1503598b-9d5f-4d54-8109-eb3228696ff8",
   "metadata": {},
   "outputs": [],
   "source": [
    "#printing results\n",
    "print(round(pt_sum_5/pt_count,2),'/ 5.0')\n",
    "print(round(pt_sum_4_5/pt_count,2),'/ 4.5')\n",
    "print(round(pt_sum_4_3/pt_count,2),'/ 4.3')"
   ]
  },
  {
   "cell_type": "code",
   "execution_count": null,
   "id": "375de509-b3bb-4de1-9a2c-6632e4a66045",
   "metadata": {},
   "outputs": [],
   "source": []
  }
 ],
 "metadata": {
  "kernelspec": {
   "display_name": "Python 3 (ipykernel)",
   "language": "python",
   "name": "python3"
  },
  "language_info": {
   "codemirror_mode": {
    "name": "ipython",
    "version": 3
   },
   "file_extension": ".py",
   "mimetype": "text/x-python",
   "name": "python",
   "nbconvert_exporter": "python",
   "pygments_lexer": "ipython3",
   "version": "3.10.6"
  }
 },
 "nbformat": 4,
 "nbformat_minor": 5
}
