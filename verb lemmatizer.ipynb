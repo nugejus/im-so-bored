{
 "cells": [
  {
   "cell_type": "code",
   "execution_count": 25,
   "id": "fde01821-b866-43ec-96af-96089dc3ff7d",
   "metadata": {},
   "outputs": [],
   "source": [
    "from nltk.stem.wordnet import WordNetLemmatizer\n",
    "lemmatizer = WordNetLemmatizer()"
   ]
  },
  {
   "cell_type": "code",
   "execution_count": 31,
   "id": "3bd39791-98f4-434c-ab30-0576a6b23a8a",
   "metadata": {},
   "outputs": [
    {
     "name": "stdin",
     "output_type": "stream",
     "text": [
      " /\n"
     ]
    }
   ],
   "source": [
    "#input '/' to exit\n",
    "while True:\n",
    "    word=input()\n",
    "    if word == '/':\n",
    "        break\n",
    "    print('infinitive:',lemmatizer.lemmatize(word,'v'))"
   ]
  },
  {
   "cell_type": "code",
   "execution_count": null,
   "id": "b51c1bfb-0eb1-4cb2-af4c-2a7fe2436974",
   "metadata": {},
   "outputs": [],
   "source": []
  }
 ],
 "metadata": {
  "kernelspec": {
   "display_name": "Python 3 (ipykernel)",
   "language": "python",
   "name": "python3"
  },
  "language_info": {
   "codemirror_mode": {
    "name": "ipython",
    "version": 3
   },
   "file_extension": ".py",
   "mimetype": "text/x-python",
   "name": "python",
   "nbconvert_exporter": "python",
   "pygments_lexer": "ipython3",
   "version": "3.10.6"
  }
 },
 "nbformat": 4,
 "nbformat_minor": 5
}
